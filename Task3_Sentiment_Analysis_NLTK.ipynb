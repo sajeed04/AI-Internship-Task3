{
  "nbformat": 4,
  "nbformat_minor": 0,
  "metadata": {
    "colab": {
      "provenance": []
    },
    "kernelspec": {
      "name": "python3",
      "display_name": "Python 3"
    },
    "language_info": {
      "name": "python"
    }
  },
  "cells": [
    {
      "cell_type": "code",
      "execution_count": 1,
      "metadata": {
        "collapsed": true,
        "colab": {
          "base_uri": "https://localhost:8080/"
        },
        "id": "kFqWoSdkMKGs",
        "outputId": "e5799459-6734-44f3-99ff-3492e2057e3c"
      },
      "outputs": [
        {
          "output_type": "stream",
          "name": "stdout",
          "text": [
            "Requirement already satisfied: nltk in /usr/local/lib/python3.11/dist-packages (3.9.1)\n",
            "Requirement already satisfied: click in /usr/local/lib/python3.11/dist-packages (from nltk) (8.2.1)\n",
            "Requirement already satisfied: joblib in /usr/local/lib/python3.11/dist-packages (from nltk) (1.5.1)\n",
            "Requirement already satisfied: regex>=2021.8.3 in /usr/local/lib/python3.11/dist-packages (from nltk) (2024.11.6)\n",
            "Requirement already satisfied: tqdm in /usr/local/lib/python3.11/dist-packages (from nltk) (4.67.1)\n"
          ]
        }
      ],
      "source": [
        "!pip install nltk\n"
      ]
    },
    {
      "cell_type": "code",
      "source": [
        "import nltk\n",
        "nltk.download('movie_reviews')\n",
        "nltk.download('punkt')\n",
        "nltk.download('stopwords')\n",
        "\n",
        "from nltk.corpus import movie_reviews\n",
        "import random\n"
      ],
      "metadata": {
        "collapsed": true,
        "colab": {
          "base_uri": "https://localhost:8080/"
        },
        "id": "ux3awuizMM6q",
        "outputId": "b4f12e03-5a1a-4ae9-ac11-cbfdcba8ad07"
      },
      "execution_count": 2,
      "outputs": [
        {
          "output_type": "stream",
          "name": "stderr",
          "text": [
            "[nltk_data] Downloading package movie_reviews to /root/nltk_data...\n",
            "[nltk_data]   Unzipping corpora/movie_reviews.zip.\n",
            "[nltk_data] Downloading package punkt to /root/nltk_data...\n",
            "[nltk_data]   Unzipping tokenizers/punkt.zip.\n",
            "[nltk_data] Downloading package stopwords to /root/nltk_data...\n",
            "[nltk_data]   Unzipping corpora/stopwords.zip.\n"
          ]
        }
      ]
    },
    {
      "cell_type": "code",
      "source": [
        "# Create a list of tuples (review words, sentiment)\n",
        "documents = [(list(movie_reviews.words(fileid)), category)\n",
        "             for category in movie_reviews.categories()\n",
        "             for fileid in movie_reviews.fileids(category)]\n",
        "\n",
        "# Shuffle the data\n",
        "random.shuffle(documents)\n"
      ],
      "metadata": {
        "id": "676AjS2fMM_P"
      },
      "execution_count": 3,
      "outputs": []
    },
    {
      "cell_type": "code",
      "source": [
        "from nltk.corpus import stopwords\n",
        "from nltk import FreqDist\n",
        "\n",
        "# Get all words in the dataset\n",
        "all_words = [w.lower() for w in movie_reviews.words() if w.isalpha() and w.lower() not in stopwords.words('english')]\n",
        "\n",
        "# Frequency distribution of words\n",
        "all_words_freq = FreqDist(all_words)\n",
        "\n",
        "# Top 2000 most common words\n",
        "word_features = list(all_words_freq)[:2000]\n",
        "\n",
        "# Function to extract features\n",
        "def document_features(document):\n",
        "    words = set(document)\n",
        "    features = {}\n",
        "    for word in word_features:\n",
        "        features[f'contains({word})'] = (word in words)\n",
        "    return features\n"
      ],
      "metadata": {
        "id": "RbXg_UvpMNC4"
      },
      "execution_count": 4,
      "outputs": []
    },
    {
      "cell_type": "code",
      "source": [
        "# Extract features for all documents\n",
        "featuresets = [(document_features(d), c) for (d, c) in documents]\n",
        "\n",
        "# Split into training and test data\n",
        "train_set, test_set = featuresets[100:], featuresets[:100]\n"
      ],
      "metadata": {
        "id": "8dpv8pyeMNGP"
      },
      "execution_count": 5,
      "outputs": []
    },
    {
      "cell_type": "code",
      "source": [
        "from nltk import NaiveBayesClassifier, classify\n",
        "\n",
        "# Train the classifier\n",
        "classifier = NaiveBayesClassifier.train(train_set)\n",
        "\n",
        "# Evaluate the model\n",
        "accuracy = classify.accuracy(classifier, test_set)\n",
        "print(f\"Model Accuracy: {accuracy * 100:.2f}%\")\n",
        "\n",
        "# Show most informative features\n",
        "classifier.show_most_informative_features(10)\n"
      ],
      "metadata": {
        "colab": {
          "base_uri": "https://localhost:8080/"
        },
        "id": "7V2iiHWCM7Ex",
        "outputId": "c06546ba-7c6f-4276-ae0d-0d5a4e81a3f8"
      },
      "execution_count": 6,
      "outputs": [
        {
          "output_type": "stream",
          "name": "stdout",
          "text": [
            "Model Accuracy: 75.00%\n",
            "Most Informative Features\n",
            "   contains(outstanding) = True              pos : neg    =     10.9 : 1.0\n",
            "        contains(seagal) = True              neg : pos    =      8.1 : 1.0\n",
            "         contains(mulan) = True              pos : neg    =      7.7 : 1.0\n",
            "   contains(wonderfully) = True              pos : neg    =      7.0 : 1.0\n",
            "         contains(awful) = True              neg : pos    =      5.9 : 1.0\n",
            "        contains(wasted) = True              neg : pos    =      5.6 : 1.0\n",
            "         contains(damon) = True              pos : neg    =      5.5 : 1.0\n",
            "          contains(lame) = True              neg : pos    =      5.2 : 1.0\n",
            "         contains(waste) = True              neg : pos    =      5.2 : 1.0\n",
            "       contains(unfunny) = True              neg : pos    =      5.0 : 1.0\n"
          ]
        }
      ]
    },
    {
      "cell_type": "code",
      "source": [],
      "metadata": {
        "id": "Vp2xxzdpM9VJ"
      },
      "execution_count": null,
      "outputs": []
    }
  ]
}